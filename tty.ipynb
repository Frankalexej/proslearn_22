{
 "cells": [
  {
   "cell_type": "code",
   "execution_count": 5,
   "metadata": {},
   "outputs": [],
   "source": [
    "import pandas as pd\n",
    "from librosa.util import index_to_slice\n",
    "from scipy.signal import spectrogram\n",
    "\n",
    "# meta data file (with syllable information)\n",
    "from PretermDataLoader import DataLoader as dl\n",
    "import audioPreprocess as ap\n",
    "import random\n",
    "import dataPreprocess as dp"
   ]
  },
  {
   "cell_type": "code",
   "execution_count": 27,
   "metadata": {},
   "outputs": [],
   "source": [
    "metafile = 'guide_test_syllableInfor.pkl'\n",
    "datanum = 1000 # assume that you want 10000 tokens"
   ]
  },
  {
   "cell_type": "code",
   "execution_count": 8,
   "metadata": {},
   "outputs": [],
   "source": [
    "loader = dl()\n",
    "meta = loader.get_metadata(metafile)"
   ]
  },
  {
   "cell_type": "code",
   "execution_count": 28,
   "metadata": {},
   "outputs": [],
   "source": [
    "mels,indexes = loader.load_data('mel',datanum)\n",
    "spectrograms = loader.load_data('spectrogram',datanum,indexes)[0]\n",
    "soundpaths = [meta['filepath'][i] for i in indexes]"
   ]
  },
  {
   "cell_type": "code",
   "execution_count": null,
   "metadata": {},
   "outputs": [
    {
     "data": {
      "text/plain": [
       "(128, 126)"
      ]
     },
     "execution_count": 16,
     "metadata": {},
     "output_type": "execute_result"
    }
   ],
   "source": [
    "# mels: [datanum, (mel_dim, length)]\n",
    "# 長度固定，因此可以直接轉成numpy array"
   ]
  },
  {
   "cell_type": "code",
   "execution_count": 20,
   "metadata": {},
   "outputs": [
    {
     "name": "stderr",
     "output_type": "stream",
     "text": [
      "/home/franklhtan/anaconda3/envs/pros22/lib/python3.12/site-packages/numpy/core/fromnumeric.py:59: FutureWarning: 'DataFrame.swapaxes' is deprecated and will be removed in a future version. Please use 'DataFrame.transpose' instead.\n",
      "  return bound(*args, **kwds)\n"
     ]
    }
   ],
   "source": [
    "# or you can get a bunch of indexlists that keeps the original distribution first\n",
    "meta['index'] = meta.index\n",
    "indexset = meta[['stress_type','index','suid']]\n",
    "# Split into subsets\n",
    "subsets_index = dp.split_into_subsets(indexset, num_subsets=100, sortkey='stress_type')\n",
    "# #Display the resulting subsets\n",
    "# for i, subset in enumerate(subsets):\n",
    "#     dp.checkDistribution(subset['stress_type'])"
   ]
  },
  {
   "cell_type": "code",
   "execution_count": 22,
   "metadata": {},
   "outputs": [
    {
     "data": {
      "text/html": [
       "<div>\n",
       "<style scoped>\n",
       "    .dataframe tbody tr th:only-of-type {\n",
       "        vertical-align: middle;\n",
       "    }\n",
       "\n",
       "    .dataframe tbody tr th {\n",
       "        vertical-align: top;\n",
       "    }\n",
       "\n",
       "    .dataframe thead th {\n",
       "        text-align: right;\n",
       "    }\n",
       "</style>\n",
       "<table border=\"1\" class=\"dataframe\">\n",
       "  <thead>\n",
       "    <tr style=\"text-align: right;\">\n",
       "      <th></th>\n",
       "      <th>stress_type</th>\n",
       "      <th>index</th>\n",
       "      <th>suid</th>\n",
       "    </tr>\n",
       "  </thead>\n",
       "  <tbody>\n",
       "    <tr>\n",
       "      <th>98594</th>\n",
       "      <td>1</td>\n",
       "      <td>98594</td>\n",
       "      <td>446-123502-0022-0002</td>\n",
       "    </tr>\n",
       "    <tr>\n",
       "      <th>22107</th>\n",
       "      <td>0</td>\n",
       "      <td>22107</td>\n",
       "      <td>1502-122619-0078-0047</td>\n",
       "    </tr>\n",
       "    <tr>\n",
       "      <th>27266</th>\n",
       "      <td>1</td>\n",
       "      <td>27266</td>\n",
       "      <td>2092-145706-0037-0037</td>\n",
       "    </tr>\n",
       "    <tr>\n",
       "      <th>69203</th>\n",
       "      <td>0</td>\n",
       "      <td>69203</td>\n",
       "      <td>3240-131232-0006-0042</td>\n",
       "    </tr>\n",
       "    <tr>\n",
       "      <th>98418</th>\n",
       "      <td>0</td>\n",
       "      <td>98418</td>\n",
       "      <td>446-123502-0017-0045</td>\n",
       "    </tr>\n",
       "    <tr>\n",
       "      <th>...</th>\n",
       "      <td>...</td>\n",
       "      <td>...</td>\n",
       "      <td>...</td>\n",
       "    </tr>\n",
       "    <tr>\n",
       "      <th>109917</th>\n",
       "      <td>1</td>\n",
       "      <td>109917</td>\n",
       "      <td>5163-39921-0022-0007</td>\n",
       "    </tr>\n",
       "    <tr>\n",
       "      <th>125275</th>\n",
       "      <td>1</td>\n",
       "      <td>125275</td>\n",
       "      <td>78-368-0045-0016</td>\n",
       "    </tr>\n",
       "    <tr>\n",
       "      <th>120438</th>\n",
       "      <td>1</td>\n",
       "      <td>120438</td>\n",
       "      <td>7402-59171-0047-0042</td>\n",
       "    </tr>\n",
       "    <tr>\n",
       "      <th>80574</th>\n",
       "      <td>0</td>\n",
       "      <td>80574</td>\n",
       "      <td>3807-4955-0009-0038</td>\n",
       "    </tr>\n",
       "    <tr>\n",
       "      <th>20314</th>\n",
       "      <td>1</td>\n",
       "      <td>20314</td>\n",
       "      <td>1502-122619-0033-0033</td>\n",
       "    </tr>\n",
       "  </tbody>\n",
       "</table>\n",
       "<p>1392 rows × 3 columns</p>\n",
       "</div>"
      ],
      "text/plain": [
       "       stress_type   index                   suid\n",
       "98594            1   98594   446-123502-0022-0002\n",
       "22107            0   22107  1502-122619-0078-0047\n",
       "27266            1   27266  2092-145706-0037-0037\n",
       "69203            0   69203  3240-131232-0006-0042\n",
       "98418            0   98418   446-123502-0017-0045\n",
       "...            ...     ...                    ...\n",
       "109917           1  109917   5163-39921-0022-0007\n",
       "125275           1  125275       78-368-0045-0016\n",
       "120438           1  120438   7402-59171-0047-0042\n",
       "80574            0   80574    3807-4955-0009-0038\n",
       "20314            1   20314  1502-122619-0033-0033\n",
       "\n",
       "[1392 rows x 3 columns]"
      ]
     },
     "execution_count": 22,
     "metadata": {},
     "output_type": "execute_result"
    }
   ],
   "source": [
    "subsets_index[0]"
   ]
  },
  {
   "cell_type": "markdown",
   "metadata": {},
   "source": [
    "# Now it seems certain that the loading is not on-the-full. \n",
    "Therefore, we can happily design loading functions based on this mechanism. We don't have to design a \"load-for-all\" mechanism, because, anyway, the time consumption and memory usage is not \"the full\". "
   ]
  },
  {
   "cell_type": "markdown",
   "metadata": {},
   "source": [
    "## Next: \n",
    "Design how we pass in data for different dataloaders and how we plan learning curve. "
   ]
  },
  {
   "cell_type": "markdown",
   "metadata": {},
   "source": [
    "This should be easy to do just following our old practice. "
   ]
  }
 ],
 "metadata": {
  "kernelspec": {
   "display_name": "pros22",
   "language": "python",
   "name": "python3"
  },
  "language_info": {
   "codemirror_mode": {
    "name": "ipython",
    "version": 3
   },
   "file_extension": ".py",
   "mimetype": "text/x-python",
   "name": "python",
   "nbconvert_exporter": "python",
   "pygments_lexer": "ipython3",
   "version": "3.12.7"
  }
 },
 "nbformat": 4,
 "nbformat_minor": 2
}
